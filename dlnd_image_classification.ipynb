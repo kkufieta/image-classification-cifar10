{
 "cells": [
  {
   "cell_type": "markdown",
   "metadata": {
    "collapsed": true,
    "deletable": true,
    "editable": true
   },
   "source": [
    "# Image Classification\n",
    "In this project, you'll classify images from the [CIFAR-10 dataset](https://www.cs.toronto.edu/~kriz/cifar.html).  The dataset consists of airplanes, dogs, cats, and other objects. You'll preprocess the images, then train a convolutional neural network on all the samples. The images need to be normalized and the labels need to be one-hot encoded.  You'll get to apply what you learned and build a convolutional, max pooling, dropout, and fully connected layers.  At the end, you'll get to see your neural network's predictions on the sample images.\n",
    "## Get the Data\n",
    "Run the following cell to download the [CIFAR-10 dataset for python](https://www.cs.toronto.edu/~kriz/cifar-10-python.tar.gz)."
   ]
  },
  {
   "cell_type": "code",
   "execution_count": 1,
   "metadata": {
    "collapsed": false,
    "deletable": true,
    "editable": true
   },
   "outputs": [
    {
     "name": "stdout",
     "output_type": "stream",
     "text": [
      "All files found!\n"
     ]
    }
   ],
   "source": [
    "\"\"\"\n",
    "DON'T MODIFY ANYTHING IN THIS CELL THAT IS BELOW THIS LINE\n",
    "\"\"\"\n",
    "from urllib.request import urlretrieve\n",
    "from os.path import isfile, isdir\n",
    "from tqdm import tqdm\n",
    "import problem_unittests as tests\n",
    "import tarfile\n",
    "\n",
    "cifar10_dataset_folder_path = 'cifar-10-batches-py'\n",
    "\n",
    "# Use Floyd's cifar-10 dataset if present\n",
    "floyd_cifar10_location = '/input/cifar-10/python.tar.gz'\n",
    "if isfile(floyd_cifar10_location):\n",
    "    tar_gz_path = floyd_cifar10_location\n",
    "else:\n",
    "    tar_gz_path = 'cifar-10-python.tar.gz'\n",
    "\n",
    "class DLProgress(tqdm):\n",
    "    last_block = 0\n",
    "\n",
    "    def hook(self, block_num=1, block_size=1, total_size=None):\n",
    "        self.total = total_size\n",
    "        self.update((block_num - self.last_block) * block_size)\n",
    "        self.last_block = block_num\n",
    "\n",
    "if not isfile(tar_gz_path):\n",
    "    with DLProgress(unit='B', unit_scale=True, miniters=1, desc='CIFAR-10 Dataset') as pbar:\n",
    "        urlretrieve(\n",
    "            'https://www.cs.toronto.edu/~kriz/cifar-10-python.tar.gz',\n",
    "            tar_gz_path,\n",
    "            pbar.hook)\n",
    "\n",
    "if not isdir(cifar10_dataset_folder_path):\n",
    "    with tarfile.open(tar_gz_path) as tar:\n",
    "        tar.extractall()\n",
    "        tar.close()\n",
    "\n",
    "\n",
    "tests.test_folder_path(cifar10_dataset_folder_path)"
   ]
  },
  {
   "cell_type": "markdown",
   "metadata": {
    "deletable": true,
    "editable": true
   },
   "source": [
    "## Explore the Data\n",
    "The dataset is broken into batches to prevent your machine from running out of memory.  The CIFAR-10 dataset consists of 5 batches, named `data_batch_1`, `data_batch_2`, etc.. Each batch contains the labels and images that are one of the following:\n",
    "* airplane\n",
    "* automobile\n",
    "* bird\n",
    "* cat\n",
    "* deer\n",
    "* dog\n",
    "* frog\n",
    "* horse\n",
    "* ship\n",
    "* truck\n",
    "\n",
    "Understanding a dataset is part of making predictions on the data.  Play around with the code cell below by changing the `batch_id` and `sample_id`. The `batch_id` is the id for a batch (1-5). The `sample_id` is the id for a image and label pair in the batch.\n",
    "\n",
    "Ask yourself \"What are all possible labels?\", \"What is the range of values for the image data?\", \"Are the labels in order or random?\".  Answers to questions like these will help you preprocess the data and end up with better predictions."
   ]
  },
  {
   "cell_type": "code",
   "execution_count": 2,
   "metadata": {
    "collapsed": false,
    "deletable": true,
    "editable": true
   },
   "outputs": [
    {
     "name": "stdout",
     "output_type": "stream",
     "text": [
      "\n",
      "Stats of batch 1:\n",
      "Samples: 10000\n",
      "Label Counts: {0: 1005, 1: 974, 2: 1032, 3: 1016, 4: 999, 5: 937, 6: 1030, 7: 1001, 8: 1025, 9: 981}\n",
      "First 20 Labels: [6, 9, 9, 4, 1, 1, 2, 7, 8, 3, 4, 7, 7, 2, 9, 9, 9, 3, 2, 6]\n",
      "\n",
      "Example of Image 5:\n",
      "Image - Min Value: 0 Max Value: 252\n",
      "Image - Shape: (32, 32, 3)\n",
      "Label - Label Id: 1 Name: automobile\n"
     ]
    },
    {
     "data": {
      "image/png": "[encoded data removed]",
      "text/plain": [
       "<matplotlib.figure.Figure at 0x7fd59908ae48>"
      ]
     },
     "metadata": {
      "image/png": {
       "height": 250,
       "width": 253
      }
     },
     "output_type": "display_data"
    }
   ],
   "source": [
    "%matplotlib inline\n",
    "%config InlineBackend.figure_format = 'retina'\n",
    "\n",
    "import helper\n",
    "import numpy as np\n",
    "\n",
    "# Explore the dataset\n",
    "batch_id = 1\n",
    "sample_id = 5\n",
    "helper.display_stats(cifar10_dataset_folder_path, batch_id, sample_id)"
   ]
  },
  {
   "cell_type": "markdown",
   "metadata": {
    "deletable": true,
    "editable": true
   },
   "source": [
    "## Implement Preprocess Functions\n",
    "### Normalize\n",
    "In the cell below, implement the `normalize` function to take in image data, `x`, and return it as a normalized Numpy array. The values should be in the range of 0 to 1, inclusive.  The return object should be the same shape as `x`."
   ]
  },
  {
   "cell_type": "code",
   "execution_count": 3,
   "metadata": {
    "collapsed": false,
    "deletable": true,
    "editable": true
   },
   "outputs": [
    {
     "name": "stdout",
     "output_type": "stream",
     "text": [
      "Tests Passed\n"
     ]
    }
   ],
   "source": [
    "def normalize(x):\n",
    "    \"\"\"\n",
    "    Normalize a list of sample image data in the range of 0 to 1\n",
    "    : x: List of image data.  The image shape is (32, 32, 3)\n",
    "    : return: Numpy array of normalize data\n",
    "    \"\"\"\n",
    "    \n",
    "    return x / 255\n",
    "\n",
    "\n",
    "\"\"\"\n",
    "DON'T MODIFY ANYTHING IN THIS CELL THAT IS BELOW THIS LINE\n",
    "\"\"\"\n",
    "tests.test_normalize(normalize)"
   ]
  },
  {
   "cell_type": "markdown",
   "metadata": {
    "deletable": true,
    "editable": true
   },
   "source": [
    "### One-hot encode\n",
    "Just like the previous code cell, you'll be implementing a function for preprocessing.  This time, you'll implement the `one_hot_encode` function. The input, `x`, are a list of labels.  Implement the function to return the list of labels as One-Hot encoded Numpy array.  The possible values for labels are 0 to 9. The one-hot encoding function should return the same encoding for each value between each call to `one_hot_encode`.  Make sure to save the map of encodings outside the function.\n",
    "\n",
    "Hint: Don't reinvent the wheel."
   ]
  },
  {
   "cell_type": "code",
   "execution_count": 4,
   "metadata": {
    "collapsed": false,
    "deletable": true,
    "editable": true
   },
   "outputs": [
    {
     "name": "stdout",
     "output_type": "stream",
     "text": [
      "Tests Passed\n"
     ]
    }
   ],
   "source": [
    "from sklearn.preprocessing import LabelBinarizer\n",
    "\n",
    "lb = LabelBinarizer()\n",
    "lb.fit(list(range(0, 10)))\n",
    "def one_hot_encode(x):\n",
    "    \"\"\"\n",
    "    One hot encode a list of sample labels. Return a one-hot encoded vector for each label.\n",
    "    : x: List of sample Labels\n",
    "    : return: Numpy array of one-hot encoded labels\n",
    "    \"\"\"\n",
    "    return lb.transform(x)\n",
    "\n",
    "\n",
    "\"\"\"\n",
    "DON'T MODIFY ANYTHING IN THIS CELL THAT IS BELOW THIS LINE\n",
    "\"\"\"\n",
    "tests.test_one_hot_encode(one_hot_encode)"
   ]
  },
  {
   "cell_type": "markdown",
   "metadata": {
    "deletable": true,
    "editable": true
   },
   "source": [
    "### Randomize Data\n",
    "As you saw from exploring the data above, the order of the samples are randomized.  It doesn't hurt to randomize it again, but you don't need to for this dataset."
   ]
  },
  {
   "cell_type": "markdown",
   "metadata": {
    "deletable": true,
    "editable": true
   },
   "source": [
    "## Preprocess all the data and save it\n",
    "Running the code cell below will preprocess all the CIFAR-10 data and save it to file. The code below also uses 10% of the training data for validation."
   ]
  },
  {
   "cell_type": "code",
   "execution_count": 5,
   "metadata": {
    "collapsed": false,
    "deletable": true,
    "editable": true
   },
   "outputs": [],
   "source": [
    "\"\"\"\n",
    "DON'T MODIFY ANYTHING IN THIS CELL\n",
    "\"\"\"\n",
    "# Preprocess Training, Validation, and Testing Data\n",
    "helper.preprocess_and_save_data(cifar10_dataset_folder_path, normalize, one_hot_encode)"
   ]
  },
  {
   "cell_type": "markdown",
   "metadata": {
    "deletable": true,
    "editable": true
   },
   "source": [
    "# Check Point\n",
    "This is your first checkpoint.  If you ever decide to come back to this notebook or have to restart the notebook, you can start from here.  The preprocessed data has been saved to disk."
   ]
  },
  {
   "cell_type": "code",
   "execution_count": 6,
   "metadata": {
    "collapsed": true,
    "deletable": true,
    "editable": true
   },
   "outputs": [],
   "source": [
    "\"\"\"\n",
    "DON'T MODIFY ANYTHING IN THIS CELL\n",
    "\"\"\"\n",
    "import pickle\n",
    "import problem_unittests as tests\n",
    "import helper\n",
    "\n",
    "# Load the Preprocessed Validation data\n",
    "valid_features, valid_labels = pickle.load(open('preprocess_validation.p', mode='rb'))"
   ]
  },
  {
   "cell_type": "markdown",
   "metadata": {
    "deletable": true,
    "editable": true
   },
   "source": [
    "## Build the network\n",
    "For the neural network, you'll build each layer into a function.  Most of the code you've seen has been outside of functions. To test your code more thoroughly, we require that you put each layer in a function.  This allows us to give you better feedback and test for simple mistakes using our unittests before you submit your project.\n",
    "\n",
    ">**Note:** If you're finding it hard to dedicate enough time for this course each week, we've provided a small shortcut to this part of the project. In the next couple of problems, you'll have the option to use classes from the [TensorFlow Layers](https://www.tensorflow.org/api_docs/python/tf/layers) or [TensorFlow Layers (contrib)](https://www.tensorflow.org/api_guides/python/contrib.layers) packages to build each layer, except the layers you build in the \"Convolutional and Max Pooling Layer\" section.  TF Layers is similar to Keras's and TFLearn's abstraction to layers, so it's easy to pickup.\n",
    "\n",
    ">However, if you would like to get the most out of this course, try to solve all the problems _without_ using anything from the TF Layers packages. You **can** still use classes from other packages that happen to have the same name as ones you find in TF Layers! For example, instead of using the TF Layers version of the `conv2d` class, [tf.layers.conv2d](https://www.tensorflow.org/api_docs/python/tf/layers/conv2d), you would want to use the TF Neural Network version of `conv2d`, [tf.nn.conv2d](https://www.tensorflow.org/api_docs/python/tf/nn/conv2d). \n",
    "\n",
    "Let's begin!\n",
    "\n",
    "### Input\n",
    "The neural network needs to read the image data, one-hot encoded labels, and dropout keep probability. Implement the following functions\n",
    "* Implement `neural_net_image_input`\n",
    " * Return a [TF Placeholder](https://www.tensorflow.org/api_docs/python/tf/placeholder)\n",
    " * Set the shape using `image_shape` with batch size set to `None`.\n",
    " * Name the TensorFlow placeholder \"x\" using the TensorFlow `name` parameter in the [TF Placeholder](https://www.tensorflow.org/api_docs/python/tf/placeholder).\n",
    "* Implement `neural_net_label_input`\n",
    " * Return a [TF Placeholder](https://www.tensorflow.org/api_docs/python/tf/placeholder)\n",
    " * Set the shape using `n_classes` with batch size set to `None`.\n",
    " * Name the TensorFlow placeholder \"y\" using the TensorFlow `name` parameter in the [TF Placeholder](https://www.tensorflow.org/api_docs/python/tf/placeholder).\n",
    "* Implement `neural_net_keep_prob_input`\n",
    " * Return a [TF Placeholder](https://www.tensorflow.org/api_docs/python/tf/placeholder) for dropout keep probability.\n",
    " * Name the TensorFlow placeholder \"keep_prob\" using the TensorFlow `name` parameter in the [TF Placeholder](https://www.tensorflow.org/api_docs/python/tf/placeholder).\n",
    "\n",
    "These names will be used at the end of the project to load your saved model.\n",
    "\n",
    "Note: `None` for shapes in TensorFlow allow for a dynamic size."
   ]
  },
  {
   "cell_type": "code",
   "execution_count": 7,
   "metadata": {
    "collapsed": false,
    "deletable": true,
    "editable": true
   },
   "outputs": [
    {
     "name": "stdout",
     "output_type": "stream",
     "text": [
      "Image Input Tests Passed.\n",
      "Label Input Tests Passed.\n",
      "Keep Prob Tests Passed.\n"
     ]
    }
   ],
   "source": [
    "import tensorflow as tf\n",
    "\n",
    "def neural_net_image_input(image_shape):\n",
    "    \"\"\"\n",
    "    Return a Tensor for a batch of image input\n",
    "    : image_shape: Shape of the images\n",
    "    : return: Tensor for image input.\n",
    "    \"\"\"\n",
    "    return tf.placeholder(tf.float32, \n",
    "                          shape=[None, image_shape[0], \n",
    "                                 image_shape[1], image_shape[2]], \n",
    "                                 name='x')\n",
    "\n",
    "\n",
    "def neural_net_label_input(n_classes):\n",
    "    \"\"\"\n",
    "    Return a Tensor for a batch of label input\n",
    "    : n_classes: Number of classes\n",
    "    : return: Tensor for label input.\n",
    "    \"\"\"\n",
    "    return tf.placeholder(tf.float32, \n",
    "                          shape=[None, n_classes],\n",
    "                          name='y')\n",
    "\n",
    "\n",
    "def neural_net_keep_prob_input():\n",
    "    \"\"\"\n",
    "    Return a Tensor for keep probability\n",
    "    : return: Tensor for keep probability.\n",
    "    \"\"\"\n",
    "    # TODO: Implement Function\n",
    "    return tf.placeholder(tf.float32, name='keep_prob')\n",
    "\n",
    "\n",
    "\"\"\"\n",
    "DON'T MODIFY ANYTHING IN THIS CELL THAT IS BELOW THIS LINE\n",
    "\"\"\"\n",
    "tf.reset_default_graph()\n",
    "tests.test_nn_image_inputs(neural_net_image_input)\n",
    "tests.test_nn_label_inputs(neural_net_label_input)\n",
    "tests.test_nn_keep_prob_inputs(neural_net_keep_prob_input)"
   ]
  },
  {
   "cell_type": "markdown",
   "metadata": {
    "deletable": true,
    "editable": true
   },
   "source": [
    "### Convolution and Max Pooling Layer\n",
    "Convolution layers have a lot of success with images. For this code cell, you should implement the function `conv2d_maxpool` to apply convolution then max pooling:\n",
    "* Create the weight and bias using `conv_ksize`, `conv_num_outputs` and the shape of `x_tensor`.\n",
    "* Apply a convolution to `x_tensor` using weight and `conv_strides`.\n",
    " * We recommend you use same padding, but you're welcome to use any padding.\n",
    "* Add bias\n",
    "* Add a nonlinear activation to the convolution.\n",
    "* Apply Max Pooling using `pool_ksize` and `pool_strides`.\n",
    " * We recommend you use same padding, but you're welcome to use any padding.\n",
    "\n",
    "**Note:** You **can't** use [TensorFlow Layers](https://www.tensorflow.org/api_docs/python/tf/layers) or [TensorFlow Layers (contrib)](https://www.tensorflow.org/api_guides/python/contrib.layers) for **this** layer, but you can still use TensorFlow's [Neural Network](https://www.tensorflow.org/api_docs/python/tf/nn) package. You may still use the shortcut option for all the **other** layers."
   ]
  },
  {
   "cell_type": "code",
   "execution_count": 97,
   "metadata": {
    "collapsed": false,
    "deletable": true,
    "editable": true
   },
   "outputs": [
    {
     "name": "stdout",
     "output_type": "stream",
     "text": [
      "Tests Passed\n"
     ]
    }
   ],
   "source": [
    "def conv2d_maxpool(x_tensor, conv_num_outputs, conv_ksize, \n",
    "                   conv_strides, pool_ksize, pool_strides):\n",
    "    \"\"\"\n",
    "    Apply convolution then max pooling to x_tensor\n",
    "    :param x_tensor: TensorFlow Tensor\n",
    "    :param conv_num_outputs: Number of outputs for the convolutional layer\n",
    "    :param conv_ksize: kernal size 2-D Tuple for the convolutional layer\n",
    "    :param conv_strides: Stride 2-D Tuple for convolution\n",
    "    :param pool_ksize: kernal size 2-D Tuple for pool\n",
    "    :param pool_strides: Stride 2-D Tuple for pool\n",
    "    : return: A tensor that represents convolution and max pooling of x_tensor\n",
    "    \"\"\"\n",
    "    weights = tf.Variable(tf.truncated_normal([conv_ksize[0],\n",
    "                                               conv_ksize[1],\n",
    "                                               int(x_tensor.shape[3]),\n",
    "                                               conv_num_outputs],\n",
    "                                              mean=0.0, \n",
    "                                              stddev=0.05))\n",
    "    bias = tf.Variable(tf.zeros(conv_num_outputs))\n",
    "    strides = [1, conv_strides[0], conv_strides[1], 1]\n",
    "    x = tf.nn.conv2d(x_tensor, weights, strides, padding='SAME')\n",
    "    x = tf.nn.bias_add(x, bias)\n",
    "    x = tf.nn.max_pool(x, ksize=[1, pool_ksize[0], pool_ksize[1], 1], \n",
    "                       strides=[1, pool_strides[0], pool_strides[1], 1],\n",
    "                       padding='SAME')\n",
    "    x = tf.nn.relu(x)\n",
    "    \n",
    "    return x\n",
    "\n",
    "\"\"\"\n",
    "DON'T MODIFY ANYTHING IN THIS CELL THAT IS BELOW THIS LINE\n",
    "\"\"\"\n",
    "tests.test_con_pool(conv2d_maxpool)"
   ]
  },
  {
   "cell_type": "markdown",
   "metadata": {
    "deletable": true,
    "editable": true
   },
   "source": [
    "### Flatten Layer\n",
    "Implement the `flatten` function to change the dimension of `x_tensor` from a 4-D tensor to a 2-D tensor.  The output should be the shape (*Batch Size*, *Flattened Image Size*). Shortcut option: you can use classes from the [TensorFlow Layers](https://www.tensorflow.org/api_docs/python/tf/layers) or [TensorFlow Layers (contrib)](https://www.tensorflow.org/api_guides/python/contrib.layers) packages for this layer. For more of a challenge, only use other TensorFlow packages."
   ]
  },
  {
   "cell_type": "code",
   "execution_count": 9,
   "metadata": {
    "collapsed": false,
    "deletable": true,
    "editable": true
   },
   "outputs": [
    {
     "name": "stdout",
     "output_type": "stream",
     "text": [
      "Tests Passed\n"
     ]
    }
   ],
   "source": [
    "def flatten(x_tensor):\n",
    "    \"\"\"\n",
    "    Flatten x_tensor to (Batch Size, Flattened Image Size)\n",
    "    : x_tensor: A tensor of size (Batch Size, ...), where ... are the image dimensions.\n",
    "    : return: A tensor of size (Batch Size, Flattened Image Size).\n",
    "    \"\"\"\n",
    "    tensor_shape = x_tensor.shape.as_list()\n",
    "    flattened_image_size = tensor_shape[1] * tensor_shape[2] * tensor_shape[3]\n",
    "    x_tensor = tf.reshape(x_tensor, [-1, flattened_image_size])\n",
    "    return x_tensor\n",
    "\n",
    "\n",
    "\"\"\"\n",
    "DON'T MODIFY ANYTHING IN THIS CELL THAT IS BELOW THIS LINE\n",
    "\"\"\"\n",
    "tests.test_flatten(flatten)"
   ]
  },
  {
   "cell_type": "markdown",
   "metadata": {
    "deletable": true,
    "editable": true
   },
   "source": [
    "### Fully-Connected Layer\n",
    "Implement the `fully_conn` function to apply a fully connected layer to `x_tensor` with the shape (*Batch Size*, *num_outputs*). Shortcut option: you can use classes from the [TensorFlow Layers](https://www.tensorflow.org/api_docs/python/tf/layers) or [TensorFlow Layers (contrib)](https://www.tensorflow.org/api_guides/python/contrib.layers) packages for this layer. For more of a challenge, only use other TensorFlow packages."
   ]
  },
  {
   "cell_type": "code",
   "execution_count": 98,
   "metadata": {
    "collapsed": false,
    "deletable": true,
    "editable": true,
    "scrolled": false
   },
   "outputs": [
    {
     "name": "stdout",
     "output_type": "stream",
     "text": [
      "Tests Passed\n"
     ]
    }
   ],
   "source": [
    "def fully_conn(x_tensor, num_outputs):\n",
    "    \"\"\"\n",
    "    Apply a fully connected layer to x_tensor using weight and bias\n",
    "    : x_tensor: A 2-D tensor where the first dimension is batch size.\n",
    "    : num_outputs: The number of output that the new tensor should be.\n",
    "    : return: A 2-D tensor where the second dimension is num_outputs.\n",
    "    \"\"\"\n",
    "    # TODO: Implement Function\n",
    "    weights = tf.Variable(tf.truncated_normal([int(x_tensor.shape[1]),\n",
    "                                              num_outputs],\n",
    "                                              mean=0.0,\n",
    "                                              stddev=0.05))\n",
    "    bias = tf.Variable(tf.zeros(num_outputs))\n",
    "    output = tf.add(tf.matmul(x_tensor, weights), bias)\n",
    "    output = tf.nn.relu(output)\n",
    "    return output\n",
    "\n",
    "\n",
    "\"\"\"\n",
    "DON'T MODIFY ANYTHING IN THIS CELL THAT IS BELOW THIS LINE\n",
    "\"\"\"\n",
    "tests.test_fully_conn(fully_conn)"
   ]
  },
  {
   "cell_type": "markdown",
   "metadata": {
    "deletable": true,
    "editable": true
   },
   "source": [
    "### Output Layer\n",
    "Implement the `output` function to apply a fully connected layer to `x_tensor` with the shape (*Batch Size*, *num_outputs*). Shortcut option: you can use classes from the [TensorFlow Layers](https://www.tensorflow.org/api_docs/python/tf/layers) or [TensorFlow Layers (contrib)](https://www.tensorflow.org/api_guides/python/contrib.layers) packages for this layer. For more of a challenge, only use other TensorFlow packages.\n",
    "\n",
    "**Note:** Activation, softmax, or cross entropy should **not** be applied to this."
   ]
  },
  {
   "cell_type": "code",
   "execution_count": 100,
   "metadata": {
    "collapsed": false,
    "deletable": true,
    "editable": true
   },
   "outputs": [
    {
     "name": "stdout",
     "output_type": "stream",
     "text": [
      "Tests Passed\n"
     ]
    }
   ],
   "source": [
    "def output(x_tensor, num_outputs):\n",
    "    \"\"\"\n",
    "    Apply a output layer to x_tensor using weight and bias\n",
    "    : x_tensor: A 2-D tensor where the first dimension is batch size.\n",
    "    : num_outputs: The number of output that the new tensor should be.\n",
    "    : return: A 2-D tensor where the second dimension is num_outputs.\n",
    "    \"\"\"\n",
    "    weights = tf.Variable(tf.truncated_normal([int(x_tensor.shape[1]),\n",
    "                                              num_outputs],\n",
    "                                              mean=0.0,\n",
    "                                              stddev=0.05))\n",
    "    bias = tf.Variable(tf.zeros(num_outputs))\n",
    "    output = tf.add(tf.matmul(x_tensor, weights), bias)\n",
    "    return output\n",
    "\n",
    "\n",
    "\"\"\"\n",
    "DON'T MODIFY ANYTHING IN THIS CELL THAT IS BELOW THIS LINE\n",
    "\"\"\"\n",
    "tests.test_output(output)"
   ]
  },
  {
   "cell_type": "markdown",
   "metadata": {
    "deletable": true,
    "editable": true
   },
   "source": [
    "### Create Convolutional Model\n",
    "Implement the function `conv_net` to create a convolutional neural network model. The function takes in a batch of images, `x`, and outputs logits.  Use the layers you created above to create this model:\n",
    "\n",
    "* Apply 1, 2, or 3 Convolution and Max Pool layers\n",
    "* Apply a Flatten Layer\n",
    "* Apply 1, 2, or 3 Fully Connected Layers\n",
    "* Apply an Output Layer\n",
    "* Return the output\n",
    "* Apply [TensorFlow's Dropout](https://www.tensorflow.org/api_docs/python/tf/nn/dropout) to one or more layers in the model using `keep_prob`. "
   ]
  },
  {
   "cell_type": "code",
   "execution_count": 101,
   "metadata": {
    "collapsed": false,
    "deletable": true,
    "editable": true
   },
   "outputs": [
    {
     "name": "stdout",
     "output_type": "stream",
     "text": [
      "Neural Network Built!\n"
     ]
    }
   ],
   "source": [
    "def conv_net(x, keep_prob):\n",
    "    \"\"\"\n",
    "    Create a convolutional neural network model\n",
    "    : x: Placeholder tensor that holds image data.\n",
    "    : keep_prob: Placeholder tensor that hold dropout keep probability.\n",
    "    : return: Tensor that represents logits\n",
    "    \"\"\"\n",
    "    # TODO: Apply 1, 2, or 3 Convolution and Max Pool layers\n",
    "    #    Play around with different number of outputs, kernel size and stride\n",
    "    # Function Definition from Above:\n",
    "    x = conv2d_maxpool(x, 16, [3, 3], [1, 1], [2, 2], [2, 2])\n",
    "    x = conv2d_maxpool(x, 64, [3, 3], [1, 1], [2, 2], [2, 2])\n",
    "    x = conv2d_maxpool(x, 256, [3, 3], [1, 1], [2, 2], [2, 2])\n",
    "    \n",
    "\n",
    "    # TODO: Apply a Flatten Layer\n",
    "    # Function Definition from Above:\n",
    "    x = flatten(x)\n",
    "    \n",
    "\n",
    "    # TODO: Apply 1, 2, or 3 Fully Connected Layers\n",
    "    #    Play around with different number of outputs\n",
    "    # Function Definition from Above:\n",
    "    x = fully_conn(x, 256)\n",
    "    x = tf.nn.dropout(x, keep_prob)\n",
    "    x = fully_conn(x, 64)\n",
    "    x = tf.nn.dropout(x, keep_prob)\n",
    "    x = fully_conn(x, 16)\n",
    "    \n",
    "    \n",
    "    # TODO: Apply an Output Layer\n",
    "    #    Set this to the number of classes\n",
    "    # Function Definition from Above:\n",
    "    \n",
    "    # TODO: I do not like that the output of size 10 is hard coded.\n",
    "    # Why are those parameters not passed into the function?\n",
    "    x = output(x, 10)\n",
    "    \n",
    "    \n",
    "    # TODO: return output\n",
    "    return x\n",
    "\n",
    "\n",
    "\"\"\"\n",
    "DON'T MODIFY ANYTHING IN THIS CELL THAT IS BELOW THIS LINE\n",
    "\"\"\"\n",
    "\n",
    "##############################\n",
    "## Build the Neural Network ##\n",
    "##############################\n",
    "\n",
    "# Remove previous weights, bias, inputs, etc..\n",
    "tf.reset_default_graph()\n",
    "\n",
    "# Inputs\n",
    "x = neural_net_image_input((32, 32, 3))\n",
    "y = neural_net_label_input(10)\n",
    "keep_prob = neural_net_keep_prob_input()\n",
    "\n",
    "# Model\n",
    "logits = conv_net(x, keep_prob)\n",
    "\n",
    "# Name logits Tensor, so that is can be loaded from disk after training\n",
    "logits = tf.identity(logits, name='logits')\n",
    "\n",
    "# Loss and Optimizer\n",
    "cost = tf.reduce_mean(tf.nn.softmax_cross_entropy_with_logits(logits=logits, labels=y))\n",
    "optimizer = tf.train.AdamOptimizer().minimize(cost)\n",
    "\n",
    "# Accuracy\n",
    "correct_pred = tf.equal(tf.argmax(logits, 1), tf.argmax(y, 1))\n",
    "accuracy = tf.reduce_mean(tf.cast(correct_pred, tf.float32), name='accuracy')\n",
    "\n",
    "tests.test_conv_net(conv_net)"
   ]
  },
  {
   "cell_type": "markdown",
   "metadata": {
    "deletable": true,
    "editable": true
   },
   "source": [
    "## Train the Neural Network\n",
    "### Single Optimization\n",
    "Implement the function `train_neural_network` to do a single optimization.  The optimization should use `optimizer` to optimize in `session` with a `feed_dict` of the following:\n",
    "* `x` for image input\n",
    "* `y` for labels\n",
    "* `keep_prob` for keep probability for dropout\n",
    "\n",
    "This function will be called for each batch, so `tf.global_variables_initializer()` has already been called.\n",
    "\n",
    "Note: Nothing needs to be returned. This function is only optimizing the neural network."
   ]
  },
  {
   "cell_type": "code",
   "execution_count": 102,
   "metadata": {
    "collapsed": false,
    "deletable": true,
    "editable": true
   },
   "outputs": [
    {
     "name": "stdout",
     "output_type": "stream",
     "text": [
      "Tests Passed\n"
     ]
    }
   ],
   "source": [
    "def train_neural_network(session, optimizer, keep_probability, \n",
    "                         feature_batch, label_batch):\n",
    "    \"\"\"\n",
    "    Optimize the session on a batch of images and labels\n",
    "    : session: Current TensorFlow session\n",
    "    : optimizer: TensorFlow optimizer function\n",
    "    : keep_probability: keep probability\n",
    "    : feature_batch: Batch of Numpy image data\n",
    "    : label_batch: Batch of Numpy label data\n",
    "    \"\"\"\n",
    "    session.run(optimizer, feed_dict={keep_prob: keep_probability,\n",
    "                                      x: feature_batch,\n",
    "                                      y: label_batch})\n",
    "\n",
    "\n",
    "\"\"\"\n",
    "DON'T MODIFY ANYTHING IN THIS CELL THAT IS BELOW THIS LINE\n",
    "\"\"\"\n",
    "tests.test_train_nn(train_neural_network)"
   ]
  },
  {
   "cell_type": "markdown",
   "metadata": {
    "deletable": true,
    "editable": true
   },
   "source": [
    "### Show Stats\n",
    "Implement the function `print_stats` to print loss and validation accuracy.  Use the global variables `valid_features` and `valid_labels` to calculate validation accuracy.  Use a keep probability of `1.0` to calculate the loss and validation accuracy."
   ]
  },
  {
   "cell_type": "code",
   "execution_count": 103,
   "metadata": {
    "collapsed": false,
    "deletable": true,
    "editable": true
   },
   "outputs": [],
   "source": [
    "def print_stats(session, feature_batch, label_batch, cost, accuracy):\n",
    "    \"\"\"\n",
    "    Print information about loss and validation accuracy\n",
    "    : session: Current TensorFlow session\n",
    "    : feature_batch: Batch of Numpy image data\n",
    "    : label_batch: Batch of Numpy label data\n",
    "    : cost: TensorFlow cost function\n",
    "    : accuracy: TensorFlow accuracy function\n",
    "    \"\"\"\n",
    "    loss = session.run(cost, feed_dict={x: feature_batch, \n",
    "                                        y: label_batch,\n",
    "                                        keep_prob: 1.})\n",
    "    accuracy = session.run(accuracy, feed_dict={x: valid_features, \n",
    "                                                y: valid_labels,\n",
    "                                                keep_prob: 1.})\n",
    "    print('Loss: {:>10.4f} Validation Accuracy: {:.6f}'\n",
    "          .format(loss, accuracy))"
   ]
  },
  {
   "cell_type": "markdown",
   "metadata": {
    "deletable": true,
    "editable": true
   },
   "source": [
    "### Hyperparameters\n",
    "Tune the following parameters:\n",
    "* Set `epochs` to the number of iterations until the network stops learning or start overfitting\n",
    "* Set `batch_size` to the highest number that your machine has memory for.  Most people set them to common sizes of memory:\n",
    " * 64\n",
    " * 128\n",
    " * 256\n",
    " * ...\n",
    "* Set `keep_probability` to the probability of keeping a node using dropout"
   ]
  },
  {
   "cell_type": "code",
   "execution_count": 108,
   "metadata": {
    "collapsed": true,
    "deletable": true,
    "editable": true
   },
   "outputs": [],
   "source": [
    "# TODO: Tune Parameters\n",
    "epochs =  100\n",
    "batch_size = 512\n",
    "keep_probability = 0.5"
   ]
  },
  {
   "cell_type": "markdown",
   "metadata": {
    "deletable": true,
    "editable": true
   },
   "source": [
    "### Train on a Single CIFAR-10 Batch\n",
    "Instead of training the neural network on all the CIFAR-10 batches of data, let's use a single batch. This should save time while you iterate on the model to get a better accuracy.  Once the final validation accuracy is 50% or greater, run the model on all the data in the next section."
   ]
  },
  {
   "cell_type": "code",
   "execution_count": 104,
   "metadata": {
    "collapsed": false,
    "deletable": true,
    "editable": true,
    "scrolled": false
   },
   "outputs": [
    {
     "name": "stdout",
     "output_type": "stream",
     "text": [
      "Checking the Training on a Single Batch...\n",
      "Epoch  1, CIFAR-10 Batch 1:  Loss:     2.2943 Validation Accuracy: 0.103000\n",
      "Epoch  2, CIFAR-10 Batch 1:  Loss:     2.1865 Validation Accuracy: 0.152400\n",
      "Epoch  3, CIFAR-10 Batch 1:  Loss:     2.0813 Validation Accuracy: 0.185400\n",
      "Epoch  4, CIFAR-10 Batch 1:  Loss:     2.0655 Validation Accuracy: 0.198000\n",
      "Epoch  5, CIFAR-10 Batch 1:  Loss:     2.0692 Validation Accuracy: 0.218400\n",
      "Epoch  6, CIFAR-10 Batch 1:  Loss:     2.0296 Validation Accuracy: 0.247200\n",
      "Epoch  7, CIFAR-10 Batch 1:  Loss:     2.0026 Validation Accuracy: 0.261000\n",
      "Epoch  8, CIFAR-10 Batch 1:  Loss:     1.9747 Validation Accuracy: 0.269800\n",
      "Epoch  9, CIFAR-10 Batch 1:  Loss:     1.9460 Validation Accuracy: 0.279400\n",
      "Epoch 10, CIFAR-10 Batch 1:  Loss:     1.9098 Validation Accuracy: 0.306600\n",
      "Epoch 11, CIFAR-10 Batch 1:  Loss:     1.8445 Validation Accuracy: 0.331200\n",
      "Epoch 12, CIFAR-10 Batch 1:  Loss:     1.8165 Validation Accuracy: 0.336400\n",
      "Epoch 13, CIFAR-10 Batch 1:  Loss:     1.7851 Validation Accuracy: 0.352200\n",
      "Epoch 14, CIFAR-10 Batch 1:  Loss:     1.7456 Validation Accuracy: 0.370200\n",
      "Epoch 15, CIFAR-10 Batch 1:  Loss:     1.6949 Validation Accuracy: 0.375000\n",
      "Epoch 16, CIFAR-10 Batch 1:  Loss:     1.7128 Validation Accuracy: 0.361000\n",
      "Epoch 17, CIFAR-10 Batch 1:  Loss:     1.6291 Validation Accuracy: 0.399200\n",
      "Epoch 18, CIFAR-10 Batch 1:  Loss:     1.6009 Validation Accuracy: 0.410800\n",
      "Epoch 19, CIFAR-10 Batch 1:  Loss:     1.5813 Validation Accuracy: 0.415000\n",
      "Epoch 20, CIFAR-10 Batch 1:  Loss:     1.6021 Validation Accuracy: 0.398800\n",
      "Epoch 21, CIFAR-10 Batch 1:  Loss:     1.5258 Validation Accuracy: 0.433400\n",
      "Epoch 22, CIFAR-10 Batch 1:  Loss:     1.5093 Validation Accuracy: 0.430000\n",
      "Epoch 23, CIFAR-10 Batch 1:  Loss:     1.5396 Validation Accuracy: 0.416800\n",
      "Epoch 24, CIFAR-10 Batch 1:  Loss:     1.4828 Validation Accuracy: 0.439400\n",
      "Epoch 25, CIFAR-10 Batch 1:  Loss:     1.4519 Validation Accuracy: 0.433200\n",
      "Epoch 26, CIFAR-10 Batch 1:  Loss:     1.4169 Validation Accuracy: 0.461200\n",
      "Epoch 27, CIFAR-10 Batch 1:  Loss:     1.4065 Validation Accuracy: 0.460400\n",
      "Epoch 28, CIFAR-10 Batch 1:  Loss:     1.3730 Validation Accuracy: 0.465400\n",
      "Epoch 29, CIFAR-10 Batch 1:  Loss:     1.3460 Validation Accuracy: 0.476400\n",
      "Epoch 30, CIFAR-10 Batch 1:  Loss:     1.3183 Validation Accuracy: 0.480000\n",
      "Epoch 31, CIFAR-10 Batch 1:  Loss:     1.3372 Validation Accuracy: 0.476800\n",
      "Epoch 32, CIFAR-10 Batch 1:  Loss:     1.2685 Validation Accuracy: 0.495600\n",
      "Epoch 33, CIFAR-10 Batch 1:  Loss:     1.2358 Validation Accuracy: 0.498600\n",
      "Epoch 34, CIFAR-10 Batch 1:  Loss:     1.2179 Validation Accuracy: 0.500000\n",
      "Epoch 35, CIFAR-10 Batch 1:  Loss:     1.1943 Validation Accuracy: 0.506400\n",
      "Epoch 36, CIFAR-10 Batch 1:  Loss:     1.1589 Validation Accuracy: 0.513000\n",
      "Epoch 37, CIFAR-10 Batch 1:  Loss:     1.1312 Validation Accuracy: 0.516000\n",
      "Epoch 38, CIFAR-10 Batch 1:  Loss:     1.1241 Validation Accuracy: 0.513400\n",
      "Epoch 39, CIFAR-10 Batch 1:  Loss:     1.0843 Validation Accuracy: 0.520200\n",
      "Epoch 40, CIFAR-10 Batch 1:  Loss:     1.0710 Validation Accuracy: 0.522800\n",
      "Epoch 41, CIFAR-10 Batch 1:  Loss:     1.0471 Validation Accuracy: 0.531400\n",
      "Epoch 42, CIFAR-10 Batch 1:  Loss:     1.0534 Validation Accuracy: 0.527000\n",
      "Epoch 43, CIFAR-10 Batch 1:  Loss:     1.0515 Validation Accuracy: 0.521800\n",
      "Epoch 44, CIFAR-10 Batch 1:  Loss:     0.9871 Validation Accuracy: 0.536800\n",
      "Epoch 45, CIFAR-10 Batch 1:  Loss:     0.9740 Validation Accuracy: 0.537000\n",
      "Epoch 46, CIFAR-10 Batch 1:  Loss:     0.9573 Validation Accuracy: 0.533200\n",
      "Epoch 47, CIFAR-10 Batch 1:  Loss:     0.9098 Validation Accuracy: 0.539400\n",
      "Epoch 48, CIFAR-10 Batch 1:  Loss:     0.9151 Validation Accuracy: 0.538400\n",
      "Epoch 49, CIFAR-10 Batch 1:  Loss:     0.8496 Validation Accuracy: 0.555600\n",
      "Epoch 50, CIFAR-10 Batch 1:  Loss:     0.8509 Validation Accuracy: 0.539200\n",
      "Epoch 51, CIFAR-10 Batch 1:  Loss:     0.8255 Validation Accuracy: 0.551800\n",
      "Epoch 52, CIFAR-10 Batch 1:  Loss:     0.7861 Validation Accuracy: 0.555000\n",
      "Epoch 53, CIFAR-10 Batch 1:  Loss:     0.7764 Validation Accuracy: 0.563600\n",
      "Epoch 54, CIFAR-10 Batch 1:  Loss:     0.7414 Validation Accuracy: 0.561200\n",
      "Epoch 55, CIFAR-10 Batch 1:  Loss:     0.7141 Validation Accuracy: 0.570000\n",
      "Epoch 56, CIFAR-10 Batch 1:  Loss:     0.7181 Validation Accuracy: 0.561000\n",
      "Epoch 57, CIFAR-10 Batch 1:  Loss:     0.6704 Validation Accuracy: 0.562400\n",
      "Epoch 58, CIFAR-10 Batch 1:  Loss:     0.6299 Validation Accuracy: 0.567600\n",
      "Epoch 59, CIFAR-10 Batch 1:  Loss:     0.6019 Validation Accuracy: 0.570200\n",
      "Epoch 60, CIFAR-10 Batch 1:  Loss:     0.5959 Validation Accuracy: 0.576600\n",
      "Epoch 61, CIFAR-10 Batch 1:  Loss:     0.5606 Validation Accuracy: 0.577200\n",
      "Epoch 62, CIFAR-10 Batch 1:  Loss:     0.5374 Validation Accuracy: 0.566800\n",
      "Epoch 63, CIFAR-10 Batch 1:  Loss:     0.5163 Validation Accuracy: 0.581000\n",
      "Epoch 64, CIFAR-10 Batch 1:  Loss:     0.5503 Validation Accuracy: 0.572400\n",
      "Epoch 65, CIFAR-10 Batch 1:  Loss:     0.5145 Validation Accuracy: 0.584600\n",
      "Epoch 66, CIFAR-10 Batch 1:  Loss:     0.4688 Validation Accuracy: 0.578800\n",
      "Epoch 67, CIFAR-10 Batch 1:  Loss:     0.4651 Validation Accuracy: 0.578200\n",
      "Epoch 68, CIFAR-10 Batch 1:  Loss:     0.4507 Validation Accuracy: 0.572400\n",
      "Epoch 69, CIFAR-10 Batch 1:  Loss:     0.4864 Validation Accuracy: 0.571400\n",
      "Epoch 70, CIFAR-10 Batch 1:  Loss:     0.4410 Validation Accuracy: 0.572000\n",
      "Epoch 71, CIFAR-10 Batch 1:  Loss:     0.4315 Validation Accuracy: 0.588400\n",
      "Epoch 72, CIFAR-10 Batch 1:  Loss:     0.4954 Validation Accuracy: 0.540600\n",
      "Epoch 73, CIFAR-10 Batch 1:  Loss:     0.4439 Validation Accuracy: 0.567400\n",
      "Epoch 74, CIFAR-10 Batch 1:  Loss:     0.3628 Validation Accuracy: 0.576800\n",
      "Epoch 75, CIFAR-10 Batch 1:  Loss:     0.3264 Validation Accuracy: 0.595600\n",
      "Epoch 76, CIFAR-10 Batch 1:  Loss:     0.3472 Validation Accuracy: 0.581400\n",
      "Epoch 77, CIFAR-10 Batch 1:  Loss:     0.2872 Validation Accuracy: 0.594200\n",
      "Epoch 78, CIFAR-10 Batch 1:  Loss:     0.3126 Validation Accuracy: 0.592800\n",
      "Epoch 79, CIFAR-10 Batch 1:  Loss:     0.3207 Validation Accuracy: 0.572000\n",
      "Epoch 80, CIFAR-10 Batch 1:  Loss:     0.3090 Validation Accuracy: 0.582000\n",
      "Epoch 81, CIFAR-10 Batch 1:  Loss:     0.2647 Validation Accuracy: 0.599000\n",
      "Epoch 82, CIFAR-10 Batch 1:  Loss:     0.2318 Validation Accuracy: 0.599600\n",
      "Epoch 83, CIFAR-10 Batch 1:  Loss:     0.2299 Validation Accuracy: 0.599800\n",
      "Epoch 84, CIFAR-10 Batch 1:  Loss:     0.2331 Validation Accuracy: 0.597200\n",
      "Epoch 85, CIFAR-10 Batch 1:  Loss:     0.2292 Validation Accuracy: 0.603400\n",
      "Epoch 86, CIFAR-10 Batch 1:  Loss:     0.2018 Validation Accuracy: 0.601600\n",
      "Epoch 87, CIFAR-10 Batch 1:  Loss:     0.1775 Validation Accuracy: 0.603200\n",
      "Epoch 88, CIFAR-10 Batch 1:  Loss:     0.1822 Validation Accuracy: 0.604400\n",
      "Epoch 89, CIFAR-10 Batch 1:  Loss:     0.1755 Validation Accuracy: 0.602400\n",
      "Epoch 90, CIFAR-10 Batch 1:  Loss:     0.1726 Validation Accuracy: 0.605400\n",
      "Epoch 91, CIFAR-10 Batch 1:  Loss:     0.1536 Validation Accuracy: 0.605000\n",
      "Epoch 92, CIFAR-10 Batch 1:  Loss:     0.1637 Validation Accuracy: 0.593000\n",
      "Epoch 93, CIFAR-10 Batch 1:  Loss:     0.1561 Validation Accuracy: 0.592000\n",
      "Epoch 94, CIFAR-10 Batch 1:  Loss:     0.1472 Validation Accuracy: 0.601000\n",
      "Epoch 95, CIFAR-10 Batch 1:  Loss:     0.1450 Validation Accuracy: 0.591600\n",
      "Epoch 96, CIFAR-10 Batch 1:  Loss:     0.1322 Validation Accuracy: 0.599800\n",
      "Epoch 97, CIFAR-10 Batch 1:  Loss:     0.1296 Validation Accuracy: 0.604200\n",
      "Epoch 98, CIFAR-10 Batch 1:  Loss:     0.1163 Validation Accuracy: 0.605200\n",
      "Epoch 99, CIFAR-10 Batch 1:  Loss:     0.1265 Validation Accuracy: 0.596600\n",
      "Epoch 100, CIFAR-10 Batch 1:  Loss:     0.1105 Validation Accuracy: 0.604200\n"
     ]
    }
   ],
   "source": [
    "\"\"\"\n",
    "DON'T MODIFY ANYTHING IN THIS CELL\n",
    "\"\"\"\n",
    "print('Checking the Training on a Single Batch...')\n",
    "with tf.Session() as sess:\n",
    "    # Initializing the variables\n",
    "    sess.run(tf.global_variables_initializer())\n",
    "    \n",
    "    # Training cycle\n",
    "    for epoch in range(epochs):\n",
    "        batch_i = 1\n",
    "        for batch_features, batch_labels in helper.load_preprocess_training_batch(batch_i, batch_size):\n",
    "            train_neural_network(sess, optimizer, keep_probability, batch_features, batch_labels)\n",
    "        print('Epoch {:>2}, CIFAR-10 Batch {}:  '.format(epoch + 1, batch_i), end='')\n",
    "        print_stats(sess, batch_features, batch_labels, cost, accuracy)"
   ]
  },
  {
   "cell_type": "markdown",
   "metadata": {
    "deletable": true,
    "editable": true
   },
   "source": [
    "### Fully Train the Model\n",
    "Now that you got a good accuracy with a single CIFAR-10 batch, try it with all five batches."
   ]
  },
  {
   "cell_type": "code",
   "execution_count": 109,
   "metadata": {
    "collapsed": false,
    "deletable": true,
    "editable": true,
    "scrolled": false
   },
   "outputs": [
    {
     "name": "stdout",
     "output_type": "stream",
     "text": [
      "Training...\n",
      "Epoch  1, CIFAR-10 Batch 1:  Loss:     2.2378 Validation Accuracy: 0.137000\n",
      "Epoch  1, CIFAR-10 Batch 2:  Loss:     2.1529 Validation Accuracy: 0.188800\n",
      "Epoch  1, CIFAR-10 Batch 3:  Loss:     2.0471 Validation Accuracy: 0.218200\n",
      "Epoch  1, CIFAR-10 Batch 4:  Loss:     1.9672 Validation Accuracy: 0.241000\n",
      "Epoch  1, CIFAR-10 Batch 5:  Loss:     1.9529 Validation Accuracy: 0.273600\n",
      "Epoch  2, CIFAR-10 Batch 1:  Loss:     1.9888 Validation Accuracy: 0.261200\n",
      "Epoch  2, CIFAR-10 Batch 2:  Loss:     1.8251 Validation Accuracy: 0.304400\n",
      "Epoch  2, CIFAR-10 Batch 3:  Loss:     1.6509 Validation Accuracy: 0.324200\n",
      "Epoch  2, CIFAR-10 Batch 4:  Loss:     1.6911 Validation Accuracy: 0.345200\n",
      "Epoch  2, CIFAR-10 Batch 5:  Loss:     1.7381 Validation Accuracy: 0.348200\n",
      "Epoch  3, CIFAR-10 Batch 1:  Loss:     1.8119 Validation Accuracy: 0.339800\n",
      "Epoch  3, CIFAR-10 Batch 2:  Loss:     1.6782 Validation Accuracy: 0.368000\n",
      "Epoch  3, CIFAR-10 Batch 3:  Loss:     1.5446 Validation Accuracy: 0.369400\n",
      "Epoch  3, CIFAR-10 Batch 4:  Loss:     1.5318 Validation Accuracy: 0.397400\n",
      "Epoch  3, CIFAR-10 Batch 5:  Loss:     1.5750 Validation Accuracy: 0.400800\n",
      "Epoch  4, CIFAR-10 Batch 1:  Loss:     1.6975 Validation Accuracy: 0.383800\n",
      "Epoch  4, CIFAR-10 Batch 2:  Loss:     1.5651 Validation Accuracy: 0.410600\n",
      "Epoch  4, CIFAR-10 Batch 3:  Loss:     1.4380 Validation Accuracy: 0.413600\n",
      "Epoch  4, CIFAR-10 Batch 4:  Loss:     1.4162 Validation Accuracy: 0.417400\n",
      "Epoch  4, CIFAR-10 Batch 5:  Loss:     1.4888 Validation Accuracy: 0.435000\n",
      "Epoch  5, CIFAR-10 Batch 1:  Loss:     1.5533 Validation Accuracy: 0.448200\n",
      "Epoch  5, CIFAR-10 Batch 2:  Loss:     1.4719 Validation Accuracy: 0.441200\n",
      "Epoch  5, CIFAR-10 Batch 3:  Loss:     1.3262 Validation Accuracy: 0.443800\n",
      "Epoch  5, CIFAR-10 Batch 4:  Loss:     1.3367 Validation Accuracy: 0.450400\n",
      "Epoch  5, CIFAR-10 Batch 5:  Loss:     1.3802 Validation Accuracy: 0.466200\n",
      "Epoch  6, CIFAR-10 Batch 1:  Loss:     1.4597 Validation Accuracy: 0.470200\n",
      "Epoch  6, CIFAR-10 Batch 2:  Loss:     1.3848 Validation Accuracy: 0.486600\n",
      "Epoch  6, CIFAR-10 Batch 3:  Loss:     1.2685 Validation Accuracy: 0.474400\n",
      "Epoch  6, CIFAR-10 Batch 4:  Loss:     1.2679 Validation Accuracy: 0.488400\n",
      "Epoch  6, CIFAR-10 Batch 5:  Loss:     1.2905 Validation Accuracy: 0.494400\n",
      "Epoch  7, CIFAR-10 Batch 1:  Loss:     1.4315 Validation Accuracy: 0.477200\n",
      "Epoch  7, CIFAR-10 Batch 2:  Loss:     1.3329 Validation Accuracy: 0.499600\n",
      "Epoch  7, CIFAR-10 Batch 3:  Loss:     1.1672 Validation Accuracy: 0.515800\n",
      "Epoch  7, CIFAR-10 Batch 4:  Loss:     1.1794 Validation Accuracy: 0.518000\n",
      "Epoch  7, CIFAR-10 Batch 5:  Loss:     1.2145 Validation Accuracy: 0.519200\n",
      "Epoch  8, CIFAR-10 Batch 1:  Loss:     1.3427 Validation Accuracy: 0.508000\n",
      "Epoch  8, CIFAR-10 Batch 2:  Loss:     1.3063 Validation Accuracy: 0.500800\n",
      "Epoch  8, CIFAR-10 Batch 3:  Loss:     1.1061 Validation Accuracy: 0.542600\n",
      "Epoch  8, CIFAR-10 Batch 4:  Loss:     1.0938 Validation Accuracy: 0.540000\n",
      "Epoch  8, CIFAR-10 Batch 5:  Loss:     1.1400 Validation Accuracy: 0.536400\n",
      "Epoch  9, CIFAR-10 Batch 1:  Loss:     1.2655 Validation Accuracy: 0.538200\n",
      "Epoch  9, CIFAR-10 Batch 2:  Loss:     1.2263 Validation Accuracy: 0.529200\n",
      "Epoch  9, CIFAR-10 Batch 3:  Loss:     1.0890 Validation Accuracy: 0.536600\n",
      "Epoch  9, CIFAR-10 Batch 4:  Loss:     1.0190 Validation Accuracy: 0.560400\n",
      "Epoch  9, CIFAR-10 Batch 5:  Loss:     1.0705 Validation Accuracy: 0.559600\n",
      "Epoch 10, CIFAR-10 Batch 1:  Loss:     1.2041 Validation Accuracy: 0.545800\n",
      "Epoch 10, CIFAR-10 Batch 2:  Loss:     1.1513 Validation Accuracy: 0.552400\n",
      "Epoch 10, CIFAR-10 Batch 3:  Loss:     0.9922 Validation Accuracy: 0.574800\n",
      "Epoch 10, CIFAR-10 Batch 4:  Loss:     0.9663 Validation Accuracy: 0.571000\n",
      "Epoch 10, CIFAR-10 Batch 5:  Loss:     1.0212 Validation Accuracy: 0.570600\n",
      "Epoch 11, CIFAR-10 Batch 1:  Loss:     1.1079 Validation Accuracy: 0.576800\n",
      "Epoch 11, CIFAR-10 Batch 2:  Loss:     1.1055 Validation Accuracy: 0.553600\n",
      "Epoch 11, CIFAR-10 Batch 3:  Loss:     0.9368 Validation Accuracy: 0.587400\n",
      "Epoch 11, CIFAR-10 Batch 4:  Loss:     0.9013 Validation Accuracy: 0.597000\n",
      "Epoch 11, CIFAR-10 Batch 5:  Loss:     0.9487 Validation Accuracy: 0.594000\n",
      "Epoch 12, CIFAR-10 Batch 1:  Loss:     1.0254 Validation Accuracy: 0.603800\n",
      "Epoch 12, CIFAR-10 Batch 2:  Loss:     1.0403 Validation Accuracy: 0.572800\n",
      "Epoch 12, CIFAR-10 Batch 3:  Loss:     0.9053 Validation Accuracy: 0.597800\n",
      "Epoch 12, CIFAR-10 Batch 4:  Loss:     0.8518 Validation Accuracy: 0.604200\n",
      "Epoch 12, CIFAR-10 Batch 5:  Loss:     0.8983 Validation Accuracy: 0.616600\n",
      "Epoch 13, CIFAR-10 Batch 1:  Loss:     0.9448 Validation Accuracy: 0.623000\n",
      "Epoch 13, CIFAR-10 Batch 2:  Loss:     1.0003 Validation Accuracy: 0.576800\n",
      "Epoch 13, CIFAR-10 Batch 3:  Loss:     0.8389 Validation Accuracy: 0.621200\n",
      "Epoch 13, CIFAR-10 Batch 4:  Loss:     0.7895 Validation Accuracy: 0.617400\n",
      "Epoch 13, CIFAR-10 Batch 5:  Loss:     0.8314 Validation Accuracy: 0.623200\n",
      "Epoch 14, CIFAR-10 Batch 1:  Loss:     0.8964 Validation Accuracy: 0.626400\n",
      "Epoch 14, CIFAR-10 Batch 2:  Loss:     0.9014 Validation Accuracy: 0.626000\n",
      "Epoch 14, CIFAR-10 Batch 3:  Loss:     0.7501 Validation Accuracy: 0.641200\n",
      "Epoch 14, CIFAR-10 Batch 4:  Loss:     0.7396 Validation Accuracy: 0.646000\n",
      "Epoch 14, CIFAR-10 Batch 5:  Loss:     0.7757 Validation Accuracy: 0.643000\n",
      "Epoch 15, CIFAR-10 Batch 1:  Loss:     0.8421 Validation Accuracy: 0.641400\n",
      "Epoch 15, CIFAR-10 Batch 2:  Loss:     0.8423 Validation Accuracy: 0.645400\n",
      "Epoch 15, CIFAR-10 Batch 3:  Loss:     0.7408 Validation Accuracy: 0.648800\n",
      "Epoch 15, CIFAR-10 Batch 4:  Loss:     0.6929 Validation Accuracy: 0.655000\n",
      "Epoch 15, CIFAR-10 Batch 5:  Loss:     0.7372 Validation Accuracy: 0.658800\n",
      "Epoch 16, CIFAR-10 Batch 1:  Loss:     0.7769 Validation Accuracy: 0.657800\n",
      "Epoch 16, CIFAR-10 Batch 2:  Loss:     0.7986 Validation Accuracy: 0.642800\n",
      "Epoch 16, CIFAR-10 Batch 3:  Loss:     0.7097 Validation Accuracy: 0.657200\n",
      "Epoch 16, CIFAR-10 Batch 4:  Loss:     0.6542 Validation Accuracy: 0.657800\n",
      "Epoch 16, CIFAR-10 Batch 5:  Loss:     0.7189 Validation Accuracy: 0.665400\n",
      "Epoch 17, CIFAR-10 Batch 1:  Loss:     0.7289 Validation Accuracy: 0.665800\n",
      "Epoch 17, CIFAR-10 Batch 2:  Loss:     0.7913 Validation Accuracy: 0.644800\n",
      "Epoch 17, CIFAR-10 Batch 3:  Loss:     0.6368 Validation Accuracy: 0.674600\n",
      "Epoch 17, CIFAR-10 Batch 4:  Loss:     0.6161 Validation Accuracy: 0.669400\n",
      "Epoch 17, CIFAR-10 Batch 5:  Loss:     0.6519 Validation Accuracy: 0.676000\n",
      "Epoch 18, CIFAR-10 Batch 1:  Loss:     0.7000 Validation Accuracy: 0.672400\n",
      "Epoch 18, CIFAR-10 Batch 2:  Loss:     0.7037 Validation Accuracy: 0.683400\n",
      "Epoch 18, CIFAR-10 Batch 3:  Loss:     0.5990 Validation Accuracy: 0.677200\n",
      "Epoch 18, CIFAR-10 Batch 4:  Loss:     0.5725 Validation Accuracy: 0.668200\n",
      "Epoch 18, CIFAR-10 Batch 5:  Loss:     0.5893 Validation Accuracy: 0.680800\n",
      "Epoch 19, CIFAR-10 Batch 1:  Loss:     0.6514 Validation Accuracy: 0.689400\n",
      "Epoch 19, CIFAR-10 Batch 2:  Loss:     0.6790 Validation Accuracy: 0.678600\n",
      "Epoch 19, CIFAR-10 Batch 3:  Loss:     0.5706 Validation Accuracy: 0.679400\n",
      "Epoch 19, CIFAR-10 Batch 4:  Loss:     0.5367 Validation Accuracy: 0.679400\n",
      "Epoch 19, CIFAR-10 Batch 5:  Loss:     0.5737 Validation Accuracy: 0.688600\n",
      "Epoch 20, CIFAR-10 Batch 1:  Loss:     0.6090 Validation Accuracy: 0.689200\n",
      "Epoch 20, CIFAR-10 Batch 2:  Loss:     0.6438 Validation Accuracy: 0.684200\n",
      "Epoch 20, CIFAR-10 Batch 3:  Loss:     0.5586 Validation Accuracy: 0.688800\n",
      "Epoch 20, CIFAR-10 Batch 4:  Loss:     0.4780 Validation Accuracy: 0.689800\n",
      "Epoch 20, CIFAR-10 Batch 5:  Loss:     0.5178 Validation Accuracy: 0.695600\n",
      "Epoch 21, CIFAR-10 Batch 1:  Loss:     0.5403 Validation Accuracy: 0.696600\n",
      "Epoch 21, CIFAR-10 Batch 2:  Loss:     0.5888 Validation Accuracy: 0.697400\n",
      "Epoch 21, CIFAR-10 Batch 3:  Loss:     0.5027 Validation Accuracy: 0.697000\n",
      "Epoch 21, CIFAR-10 Batch 4:  Loss:     0.4698 Validation Accuracy: 0.691000\n",
      "Epoch 21, CIFAR-10 Batch 5:  Loss:     0.4959 Validation Accuracy: 0.700600\n",
      "Epoch 22, CIFAR-10 Batch 1:  Loss:     0.5402 Validation Accuracy: 0.693400\n",
      "Epoch 22, CIFAR-10 Batch 2:  Loss:     0.5379 Validation Accuracy: 0.709600\n",
      "Epoch 22, CIFAR-10 Batch 3:  Loss:     0.4580 Validation Accuracy: 0.703000\n",
      "Epoch 22, CIFAR-10 Batch 4:  Loss:     0.4477 Validation Accuracy: 0.703000\n",
      "Epoch 22, CIFAR-10 Batch 5:  Loss:     0.4475 Validation Accuracy: 0.704800\n",
      "Epoch 23, CIFAR-10 Batch 1:  Loss:     0.4671 Validation Accuracy: 0.708600\n",
      "Epoch 23, CIFAR-10 Batch 2:  Loss:     0.5384 Validation Accuracy: 0.706200\n",
      "Epoch 23, CIFAR-10 Batch 3:  Loss:     0.4251 Validation Accuracy: 0.707000\n",
      "Epoch 23, CIFAR-10 Batch 4:  Loss:     0.4119 Validation Accuracy: 0.708600\n",
      "Epoch 23, CIFAR-10 Batch 5:  Loss:     0.4268 Validation Accuracy: 0.702800\n",
      "Epoch 24, CIFAR-10 Batch 1:  Loss:     0.4373 Validation Accuracy: 0.711200\n",
      "Epoch 24, CIFAR-10 Batch 2:  Loss:     0.4746 Validation Accuracy: 0.710600\n",
      "Epoch 24, CIFAR-10 Batch 3:  Loss:     0.4014 Validation Accuracy: 0.704800\n",
      "Epoch 24, CIFAR-10 Batch 4:  Loss:     0.3890 Validation Accuracy: 0.707800\n",
      "Epoch 24, CIFAR-10 Batch 5:  Loss:     0.3937 Validation Accuracy: 0.705600\n",
      "Epoch 25, CIFAR-10 Batch 1:  Loss:     0.4076 Validation Accuracy: 0.715000\n",
      "Epoch 25, CIFAR-10 Batch 2:  Loss:     0.4252 Validation Accuracy: 0.714600\n",
      "Epoch 25, CIFAR-10 Batch 3:  Loss:     0.3534 Validation Accuracy: 0.709000\n",
      "Epoch 25, CIFAR-10 Batch 4:  Loss:     0.3706 Validation Accuracy: 0.713400\n",
      "Epoch 25, CIFAR-10 Batch 5:  Loss:     0.3858 Validation Accuracy: 0.697600\n",
      "Epoch 26, CIFAR-10 Batch 1:  Loss:     0.3828 Validation Accuracy: 0.717800\n",
      "Epoch 26, CIFAR-10 Batch 2:  Loss:     0.3971 Validation Accuracy: 0.717000\n",
      "Epoch 26, CIFAR-10 Batch 3:  Loss:     0.3478 Validation Accuracy: 0.709400\n",
      "Epoch 26, CIFAR-10 Batch 4:  Loss:     0.3304 Validation Accuracy: 0.706600\n",
      "Epoch 26, CIFAR-10 Batch 5:  Loss:     0.3446 Validation Accuracy: 0.715200\n",
      "Epoch 27, CIFAR-10 Batch 1:  Loss:     0.3280 Validation Accuracy: 0.712200\n",
      "Epoch 27, CIFAR-10 Batch 2:  Loss:     0.3547 Validation Accuracy: 0.723800\n",
      "Epoch 27, CIFAR-10 Batch 3:  Loss:     0.3203 Validation Accuracy: 0.710600\n",
      "Epoch 27, CIFAR-10 Batch 4:  Loss:     0.3149 Validation Accuracy: 0.714200\n",
      "Epoch 27, CIFAR-10 Batch 5:  Loss:     0.3076 Validation Accuracy: 0.715600\n"
     ]
    }
   ],
   "source": [
    "\"\"\"\n",
    "DON'T MODIFY ANYTHING IN THIS CELL\n",
    "\"\"\"\n",
    "save_model_path = './image_classification'\n",
    "\n",
    "epochs =  27\n",
    "print('Training...')\n",
    "with tf.Session() as sess:\n",
    "    # Initializing the variables\n",
    "    sess.run(tf.global_variables_initializer())\n",
    "    \n",
    "    # Training cycle\n",
    "    for epoch in range(epochs):\n",
    "        # Loop over all batches\n",
    "        n_batches = 5\n",
    "        for batch_i in range(1, n_batches + 1):\n",
    "            for batch_features, batch_labels in helper.load_preprocess_training_batch(batch_i, batch_size):\n",
    "                train_neural_network(sess, optimizer, keep_probability, batch_features, batch_labels)\n",
    "            print('Epoch {:>2}, CIFAR-10 Batch {}:  '.format(epoch + 1, batch_i), end='')\n",
    "            print_stats(sess, batch_features, batch_labels, cost, accuracy)\n",
    "            \n",
    "    # Save Model\n",
    "    saver = tf.train.Saver()\n",
    "    save_path = saver.save(sess, save_model_path)"
   ]
  },
  {
   "cell_type": "markdown",
   "metadata": {
    "deletable": true,
    "editable": true
   },
   "source": [
    "# Checkpoint\n",
    "The model has been saved to disk.\n",
    "## Test Model\n",
    "Test your model against the test dataset.  This will be your final accuracy. You should have an accuracy greater than 50%. If you don't, keep tweaking the model architecture and parameters."
   ]
  },
  {
   "cell_type": "code",
   "execution_count": 110,
   "metadata": {
    "collapsed": false,
    "deletable": true,
    "editable": true
   },
   "outputs": [
    {
     "name": "stdout",
     "output_type": "stream",
     "text": [
      "Testing Accuracy: 0.7117474734783172\n",
      "\n"
     ]
    },
    {
     "data": {
      "image/png": "[encoded data removed]",
      "text/plain": [
       "<matplotlib.figure.Figure at 0x7fd5a2590f98>"
      ]
     },
     "metadata": {
      "image/png": {
       "height": 319,
       "width": 355
      }
     },
     "output_type": "display_data"
    }
   ],
   "source": [
    "\"\"\"\n",
    "DON'T MODIFY ANYTHING IN THIS CELL\n",
    "\"\"\"\n",
    "%matplotlib inline\n",
    "%config InlineBackend.figure_format = 'retina'\n",
    "\n",
    "import tensorflow as tf\n",
    "import pickle\n",
    "import helper\n",
    "import random\n",
    "\n",
    "# Set batch size if not already set\n",
    "try:\n",
    "    if batch_size:\n",
    "        pass\n",
    "except NameError:\n",
    "    batch_size = 64\n",
    "\n",
    "save_model_path = './image_classification'\n",
    "n_samples = 4\n",
    "top_n_predictions = 3\n",
    "\n",
    "def test_model():\n",
    "    \"\"\"\n",
    "    Test the saved model against the test dataset\n",
    "    \"\"\"\n",
    "\n",
    "    test_features, test_labels = pickle.load(open('preprocess_test.p', mode='rb'))\n",
    "    loaded_graph = tf.Graph()\n",
    "\n",
    "    with tf.Session(graph=loaded_graph) as sess:\n",
    "        # Load model\n",
    "        loader = tf.train.import_meta_graph(save_model_path + '.meta')\n",
    "        loader.restore(sess, save_model_path)\n",
    "\n",
    "        # Get Tensors from loaded model\n",
    "        loaded_x = loaded_graph.get_tensor_by_name('x:0')\n",
    "        loaded_y = loaded_graph.get_tensor_by_name('y:0')\n",
    "        loaded_keep_prob = loaded_graph.get_tensor_by_name('keep_prob:0')\n",
    "        loaded_logits = loaded_graph.get_tensor_by_name('logits:0')\n",
    "        loaded_acc = loaded_graph.get_tensor_by_name('accuracy:0')\n",
    "        \n",
    "        # Get accuracy in batches for memory limitations\n",
    "        test_batch_acc_total = 0\n",
    "        test_batch_count = 0\n",
    "        \n",
    "        for test_feature_batch, test_label_batch in helper.batch_features_labels(test_features, test_labels, batch_size):\n",
    "            test_batch_acc_total += sess.run(\n",
    "                loaded_acc,\n",
    "                feed_dict={loaded_x: test_feature_batch, loaded_y: test_label_batch, loaded_keep_prob: 1.0})\n",
    "            test_batch_count += 1\n",
    "\n",
    "        print('Testing Accuracy: {}\\n'.format(test_batch_acc_total/test_batch_count))\n",
    "\n",
    "        # Print Random Samples\n",
    "        random_test_features, random_test_labels = tuple(zip(*random.sample(list(zip(test_features, test_labels)), n_samples)))\n",
    "        random_test_predictions = sess.run(\n",
    "            tf.nn.top_k(tf.nn.softmax(loaded_logits), top_n_predictions),\n",
    "            feed_dict={loaded_x: random_test_features, loaded_y: random_test_labels, loaded_keep_prob: 1.0})\n",
    "        helper.display_image_predictions(random_test_features, random_test_labels, random_test_predictions)\n",
    "\n",
    "\n",
    "test_model()"
   ]
  },
  {
   "cell_type": "markdown",
   "metadata": {
    "deletable": true,
    "editable": true
   },
   "source": [
    "## Why 50-80% Accuracy?\n",
    "You might be wondering why you can't get an accuracy any higher. First things first, 50% isn't bad for a simple CNN.  Pure guessing would get you 10% accuracy. However, you might notice people are getting scores [well above 80%](http://rodrigob.github.io/are_we_there_yet/build/classification_datasets_results.html#43494641522d3130).  That's because we haven't taught you all there is to know about neural networks. We still need to cover a few more techniques.\n",
    "## Submitting This Project\n",
    "When submitting this project, make sure to run all the cells before saving the notebook.  Save the notebook file as \"dlnd_image_classification.ipynb\" and save it as a HTML file under \"File\" -> \"Download as\".  Include the \"helper.py\" and \"problem_unittests.py\" files in your submission."
   ]
  }
 ],
 "metadata": {
  "kernelspec": {
   "display_name": "Python 3",
   "language": "python",
   "name": "python3"
  },
  "language_info": {
   "codemirror_mode": {
    "name": "ipython",
    "version": 3
   },
   "file_extension": ".py",
   "mimetype": "text/x-python",
   "name": "python",
   "nbconvert_exporter": "python",
   "pygments_lexer": "ipython3",
   "version": "3.5.2"
  },
  "widgets": {
   "state": {},
   "version": "1.1.2"
  }
 },
 "nbformat": 4,
 "nbformat_minor": 0
}
